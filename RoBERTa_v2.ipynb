{
 "cells": [
  {
   "cell_type": "code",
   "execution_count": 1,
   "metadata": {},
   "outputs": [
    {
     "name": "stderr",
     "output_type": "stream",
     "text": [
      "/home/mfuai/.local/lib/python3.9/site-packages/tqdm/auto.py:21: TqdmWarning: IProgress not found. Please update jupyter and ipywidgets. See https://ipywidgets.readthedocs.io/en/stable/user_install.html\n",
      "  from .autonotebook import tqdm as notebook_tqdm\n"
     ]
    }
   ],
   "source": [
    "import torch\n",
    "from transformers import RobertaTokenizer, RobertaForSequenceClassification, Trainer, TrainingArguments, EarlyStoppingCallback\n",
    "from datasets import load_dataset, Dataset\n",
    "import numpy as np\n",
    "from sklearn.metrics import accuracy_score, precision_recall_fscore_support\n",
    "import matplotlib.pyplot as plt\n",
    "import pandas as pd\n",
    "import nltk"
   ]
  },
  {
   "cell_type": "code",
   "execution_count": 2,
   "metadata": {},
   "outputs": [
    {
     "name": "stderr",
     "output_type": "stream",
     "text": [
      "Map: 100%|██████████| 4924/4924 [00:01<00:00, 4138.04 examples/s]\n"
     ]
    }
   ],
   "source": [
    "def load_jsonl_data(file_path):\n",
    "    data = pd.read_json(file_path, lines=True)\n",
    "    return data\n",
    "\n",
    "matched_data = load_jsonl_data('/home/mfuai/MSBD5018/dev_matched_sampled-1.jsonl')\n",
    "mismatched_data = load_jsonl_data('/home/mfuai/MSBD5018/dev_mismatched_sampled-1.jsonl')\n",
    "\n",
    "nli_data = pd.concat([matched_data, mismatched_data])\n",
    "nli_data = nli_data.sample(frac=1, random_state=42).reset_index(drop=True)\n",
    "nli_data = nli_data[nli_data['gold_label'].isin(['contradiction', 'entailment', 'neutral'])]\n",
    "nli_dataset = Dataset.from_pandas(nli_data)\n",
    "\n",
    "tokenizer = RobertaTokenizer.from_pretrained('roberta-base')\n",
    "\n",
    "def preprocess_function(examples):\n",
    "    label_map = {\"entailment\": 0, \"neutral\": 1, \"contradiction\": 2, \"-\": -1}\n",
    "    encoding = tokenizer(\n",
    "        examples['sentence1'],\n",
    "        examples['sentence2'],\n",
    "        truncation=True,\n",
    "        padding='max_length',\n",
    "        max_length=512\n",
    "    )\n",
    "    \n",
    "    labels = [label_map.get(label, -1) for label in examples['gold_label']]\n",
    "    encoding['label'] = labels\n",
    "    return encoding\n",
    "\n",
    "\n",
    "encoded_nli_dataset = nli_dataset.map(preprocess_function, batched=True)\n",
    "train_size = int(0.9 * len(encoded_nli_dataset))\n",
    "nli_train_dataset = encoded_nli_dataset.select(range(train_size))\n",
    "nli_eval_dataset = encoded_nli_dataset.select(range(train_size, len(encoded_nli_dataset)))\n"
   ]
  },
  {
   "cell_type": "code",
   "execution_count": 3,
   "metadata": {},
   "outputs": [
    {
     "name": "stdout",
     "output_type": "stream",
     "text": [
      "Sentence 1:  I'm going to try to confirm an ID for you, but I would assume he's somewhere over, uh, either New Jersey or somewhere further south.\n",
      "Sentence 2: I'm going to try and confirm a non-driver state ID for you.\n",
      "Gold Label: neutral\n",
      "Label: 1\n"
     ]
    }
   ],
   "source": [
    "sample = nli_eval_dataset[10]\n",
    "print(\"Sentence 1:\", sample['sentence1'])\n",
    "print(\"Sentence 2:\", sample['sentence2'])\n",
    "print(\"Gold Label:\", sample['gold_label'])\n",
    "print(\"Label:\", sample['label'])"
   ]
  },
  {
   "cell_type": "code",
   "execution_count": 4,
   "metadata": {},
   "outputs": [],
   "source": [
    "def compute_metrics(p):\n",
    "    preds = p.predictions.argmax(-1)\n",
    "    accuracy = accuracy_score(p.label_ids, preds)\n",
    "    precision, recall, f1, _ = precision_recall_fscore_support(p.label_ids, preds, average='weighted')\n",
    "    return {\n",
    "        \"accuracy\": accuracy,\n",
    "        \"precision\": precision,\n",
    "        \"recall\": recall,\n",
    "        \"f1\": f1\n",
    "    }"
   ]
  },
  {
   "cell_type": "code",
   "execution_count": 5,
   "metadata": {},
   "outputs": [
    {
     "name": "stderr",
     "output_type": "stream",
     "text": [
      "Some weights of RobertaForSequenceClassification were not initialized from the model checkpoint at roberta-base and are newly initialized: ['classifier.dense.bias', 'classifier.dense.weight', 'classifier.out_proj.bias', 'classifier.out_proj.weight']\n",
      "You should probably TRAIN this model on a down-stream task to be able to use it for predictions and inference.\n"
     ]
    },
    {
     "data": {
      "text/html": [
       "\n",
       "    <div>\n",
       "      \n",
       "      <progress value='2780' max='2780' style='width:300px; height:20px; vertical-align: middle;'></progress>\n",
       "      [2780/2780 24:16, Epoch 20/20]\n",
       "    </div>\n",
       "    <table border=\"1\" class=\"dataframe\">\n",
       "  <thead>\n",
       " <tr style=\"text-align: left;\">\n",
       "      <th>Epoch</th>\n",
       "      <th>Training Loss</th>\n",
       "      <th>Validation Loss</th>\n",
       "      <th>Accuracy</th>\n",
       "      <th>Precision</th>\n",
       "      <th>Recall</th>\n",
       "      <th>F1</th>\n",
       "    </tr>\n",
       "  </thead>\n",
       "  <tbody>\n",
       "    <tr>\n",
       "      <td>1</td>\n",
       "      <td>1.096800</td>\n",
       "      <td>1.094743</td>\n",
       "      <td>0.342799</td>\n",
       "      <td>0.117511</td>\n",
       "      <td>0.342799</td>\n",
       "      <td>0.175024</td>\n",
       "    </tr>\n",
       "    <tr>\n",
       "      <td>2</td>\n",
       "      <td>0.775600</td>\n",
       "      <td>0.674925</td>\n",
       "      <td>0.722110</td>\n",
       "      <td>0.727244</td>\n",
       "      <td>0.722110</td>\n",
       "      <td>0.718575</td>\n",
       "    </tr>\n",
       "    <tr>\n",
       "      <td>3</td>\n",
       "      <td>0.564500</td>\n",
       "      <td>0.559888</td>\n",
       "      <td>0.791075</td>\n",
       "      <td>0.794421</td>\n",
       "      <td>0.791075</td>\n",
       "      <td>0.785362</td>\n",
       "    </tr>\n",
       "    <tr>\n",
       "      <td>4</td>\n",
       "      <td>0.425500</td>\n",
       "      <td>0.534224</td>\n",
       "      <td>0.813387</td>\n",
       "      <td>0.814291</td>\n",
       "      <td>0.813387</td>\n",
       "      <td>0.811585</td>\n",
       "    </tr>\n",
       "    <tr>\n",
       "      <td>5</td>\n",
       "      <td>0.247700</td>\n",
       "      <td>0.541206</td>\n",
       "      <td>0.827586</td>\n",
       "      <td>0.832587</td>\n",
       "      <td>0.827586</td>\n",
       "      <td>0.826284</td>\n",
       "    </tr>\n",
       "    <tr>\n",
       "      <td>6</td>\n",
       "      <td>0.204100</td>\n",
       "      <td>0.622905</td>\n",
       "      <td>0.819473</td>\n",
       "      <td>0.827048</td>\n",
       "      <td>0.819473</td>\n",
       "      <td>0.818124</td>\n",
       "    </tr>\n",
       "    <tr>\n",
       "      <td>7</td>\n",
       "      <td>0.108800</td>\n",
       "      <td>0.769479</td>\n",
       "      <td>0.815416</td>\n",
       "      <td>0.820571</td>\n",
       "      <td>0.815416</td>\n",
       "      <td>0.814593</td>\n",
       "    </tr>\n",
       "    <tr>\n",
       "      <td>8</td>\n",
       "      <td>0.111100</td>\n",
       "      <td>0.778756</td>\n",
       "      <td>0.829615</td>\n",
       "      <td>0.842995</td>\n",
       "      <td>0.829615</td>\n",
       "      <td>0.828808</td>\n",
       "    </tr>\n",
       "    <tr>\n",
       "      <td>9</td>\n",
       "      <td>0.089900</td>\n",
       "      <td>0.793355</td>\n",
       "      <td>0.847870</td>\n",
       "      <td>0.850523</td>\n",
       "      <td>0.847870</td>\n",
       "      <td>0.846477</td>\n",
       "    </tr>\n",
       "    <tr>\n",
       "      <td>10</td>\n",
       "      <td>0.029200</td>\n",
       "      <td>0.854696</td>\n",
       "      <td>0.835700</td>\n",
       "      <td>0.843424</td>\n",
       "      <td>0.835700</td>\n",
       "      <td>0.836553</td>\n",
       "    </tr>\n",
       "    <tr>\n",
       "      <td>11</td>\n",
       "      <td>0.034900</td>\n",
       "      <td>0.885240</td>\n",
       "      <td>0.847870</td>\n",
       "      <td>0.851977</td>\n",
       "      <td>0.847870</td>\n",
       "      <td>0.847753</td>\n",
       "    </tr>\n",
       "    <tr>\n",
       "      <td>12</td>\n",
       "      <td>0.034200</td>\n",
       "      <td>0.959727</td>\n",
       "      <td>0.845842</td>\n",
       "      <td>0.852474</td>\n",
       "      <td>0.845842</td>\n",
       "      <td>0.844868</td>\n",
       "    </tr>\n",
       "    <tr>\n",
       "      <td>13</td>\n",
       "      <td>0.037800</td>\n",
       "      <td>0.940764</td>\n",
       "      <td>0.851927</td>\n",
       "      <td>0.853634</td>\n",
       "      <td>0.851927</td>\n",
       "      <td>0.851639</td>\n",
       "    </tr>\n",
       "    <tr>\n",
       "      <td>14</td>\n",
       "      <td>0.042500</td>\n",
       "      <td>0.978515</td>\n",
       "      <td>0.841785</td>\n",
       "      <td>0.843816</td>\n",
       "      <td>0.841785</td>\n",
       "      <td>0.841660</td>\n",
       "    </tr>\n",
       "    <tr>\n",
       "      <td>15</td>\n",
       "      <td>0.019700</td>\n",
       "      <td>1.041448</td>\n",
       "      <td>0.839757</td>\n",
       "      <td>0.843583</td>\n",
       "      <td>0.839757</td>\n",
       "      <td>0.839648</td>\n",
       "    </tr>\n",
       "    <tr>\n",
       "      <td>16</td>\n",
       "      <td>0.002600</td>\n",
       "      <td>1.063533</td>\n",
       "      <td>0.837728</td>\n",
       "      <td>0.841387</td>\n",
       "      <td>0.837728</td>\n",
       "      <td>0.837275</td>\n",
       "    </tr>\n",
       "    <tr>\n",
       "      <td>17</td>\n",
       "      <td>0.005100</td>\n",
       "      <td>1.045238</td>\n",
       "      <td>0.843813</td>\n",
       "      <td>0.846365</td>\n",
       "      <td>0.843813</td>\n",
       "      <td>0.843885</td>\n",
       "    </tr>\n",
       "    <tr>\n",
       "      <td>18</td>\n",
       "      <td>0.003000</td>\n",
       "      <td>1.054565</td>\n",
       "      <td>0.845842</td>\n",
       "      <td>0.850154</td>\n",
       "      <td>0.845842</td>\n",
       "      <td>0.845722</td>\n",
       "    </tr>\n",
       "    <tr>\n",
       "      <td>19</td>\n",
       "      <td>0.000600</td>\n",
       "      <td>1.050342</td>\n",
       "      <td>0.845842</td>\n",
       "      <td>0.849451</td>\n",
       "      <td>0.845842</td>\n",
       "      <td>0.845628</td>\n",
       "    </tr>\n",
       "    <tr>\n",
       "      <td>20</td>\n",
       "      <td>0.007400</td>\n",
       "      <td>1.049653</td>\n",
       "      <td>0.845842</td>\n",
       "      <td>0.849451</td>\n",
       "      <td>0.845842</td>\n",
       "      <td>0.845628</td>\n",
       "    </tr>\n",
       "  </tbody>\n",
       "</table><p>"
      ],
      "text/plain": [
       "<IPython.core.display.HTML object>"
      ]
     },
     "metadata": {},
     "output_type": "display_data"
    },
    {
     "name": "stderr",
     "output_type": "stream",
     "text": [
      "/home/mfuai/.conda/envs/msbd5018/lib/python3.9/site-packages/sklearn/metrics/_classification.py:1531: UndefinedMetricWarning: Precision is ill-defined and being set to 0.0 in labels with no predicted samples. Use `zero_division` parameter to control this behavior.\n",
      "  _warn_prf(average, modifier, f\"{metric.capitalize()} is\", len(result))\n"
     ]
    },
    {
     "data": {
      "text/plain": [
       "TrainOutput(global_step=2780, training_loss=0.2020587609456048, metrics={'train_runtime': 1457.2739, 'train_samples_per_second': 60.812, 'train_steps_per_second': 1.908, 'total_flos': 2.331711107905536e+16, 'train_loss': 0.2020587609456048, 'epoch': 20.0})"
      ]
     },
     "execution_count": 5,
     "metadata": {},
     "output_type": "execute_result"
    }
   ],
   "source": [
    "model = RobertaForSequenceClassification.from_pretrained('roberta-base', num_labels=3)\n",
    "\n",
    "training_args = TrainingArguments(\n",
    "    output_dir=\"./roberta_results\",\n",
    "    num_train_epochs=20,\n",
    "    per_device_train_batch_size=32,\n",
    "    per_device_eval_batch_size=16,\n",
    "    logging_dir=\"./logs\",\n",
    "    logging_steps=10,\n",
    "    eval_strategy=\"epoch\",\n",
    "    save_strategy=\"epoch\",\n",
    "    load_best_model_at_end=True,\n",
    "    learning_rate=1e-5,\n",
    "    metric_for_best_model=\"accuracy\", \n",
    "    greater_is_better=True,           \n",
    "    warmup_steps=200,\n",
    "    lr_scheduler_type=\"cosine\",\n",
    "    save_total_limit=3\n",
    ")\n",
    "\n",
    "trainer = Trainer(\n",
    "    model=model,\n",
    "    args=training_args,\n",
    "    train_dataset=nli_train_dataset,\n",
    "    eval_dataset=nli_eval_dataset,\n",
    "    tokenizer=tokenizer,\n",
    "    compute_metrics=compute_metrics\n",
    ")\n",
    "\n",
    "# 开始训练\n",
    "trainer.train()"
   ]
  },
  {
   "cell_type": "code",
   "execution_count": 6,
   "metadata": {},
   "outputs": [
    {
     "data": {
      "image/png": "[encoded data removed]",
      "text/plain": [
       "<Figure size 1200x600 with 2 Axes>"
      ]
     },
     "metadata": {},
     "output_type": "display_data"
    }
   ],
   "source": [
    "loss_values = []\n",
    "loss_steps = []\n",
    "accuracy_values = []\n",
    "accuracy_steps = []\n",
    "\n",
    "for log in trainer.state.log_history:\n",
    "    if 'loss' in log:\n",
    "        loss_values.append(log['loss'])\n",
    "        loss_steps.append(log['step'])\n",
    "    if 'eval_accuracy' in log:\n",
    "        accuracy_values.append(log['eval_accuracy'])\n",
    "        accuracy_steps.append(log['step'])\n",
    "\n",
    "# 创建一个图形，分为两列\n",
    "plt.figure(figsize=(12, 6))\n",
    "\n",
    "# 绘制损失曲线\n",
    "plt.subplot(1, 2, 1)\n",
    "plt.plot(loss_steps, loss_values, label=\"Train Loss\", color=\"steelblue\")\n",
    "plt.xlabel('Training Steps')\n",
    "plt.ylabel('Loss')\n",
    "plt.title('Train Loss')\n",
    "plt.legend()\n",
    "\n",
    "# 绘制准确率曲线\n",
    "plt.subplot(1, 2, 2)\n",
    "plt.plot(accuracy_steps, accuracy_values, label=\"Eval Accuracy\", color=\"steelblue\")\n",
    "plt.xlabel('Training Steps')\n",
    "plt.ylabel('Accuracy')\n",
    "plt.title('Eval Accuracy')\n",
    "plt.legend()\n",
    "\n",
    "plt.tight_layout()\n",
    "plt.savefig(\"roberta_training_curve.png\")\n",
    "plt.show()"
   ]
  },
  {
   "cell_type": "code",
   "execution_count": 7,
   "metadata": {},
   "outputs": [
    {
     "data": {
      "text/html": [
       "\n",
       "    <div>\n",
       "      \n",
       "      <progress value='31' max='31' style='width:300px; height:20px; vertical-align: middle;'></progress>\n",
       "      [31/31 00:01]\n",
       "    </div>\n",
       "    "
      ],
      "text/plain": [
       "<IPython.core.display.HTML object>"
      ]
     },
     "metadata": {},
     "output_type": "display_data"
    },
    {
     "name": "stdout",
     "output_type": "stream",
     "text": [
      "Evaluation results: {'eval_loss': 0.9407641887664795, 'eval_accuracy': 0.8519269776876268, 'eval_precision': 0.853634214816654, 'eval_recall': 0.8519269776876268, 'eval_f1': 0.851639474536131, 'eval_runtime': 1.8835, 'eval_samples_per_second': 261.753, 'eval_steps_per_second': 16.459, 'epoch': 20.0}\n"
     ]
    }
   ],
   "source": [
    "trainer.save_model(\"./roberta_finetuned_model\")\n",
    "tokenizer.save_pretrained(\"./roberta_finetuned_model\")\n",
    "\n",
    "results = trainer.evaluate()\n",
    "print(\"Evaluation results:\", results)"
   ]
  },
  {
   "cell_type": "code",
   "execution_count": 8,
   "metadata": {},
   "outputs": [
    {
     "name": "stdout",
     "output_type": "stream",
     "text": [
      "Dataset({\n",
      "    features: ['gpt3_text', 'wiki_bio_text', 'gpt3_sentences', 'annotation', 'wiki_bio_test_idx', 'gpt3_text_samples'],\n",
      "    num_rows: 238\n",
      "})\n",
      "{'gpt3_text': \"John Russell Reynolds (1820–1876) was an English lawyer, judge, and author. He was born in London, the son of a barrister, and was educated at Eton College and Trinity College, Cambridge. He was called to the bar in 1845, and became a Queen's Counsel in 1859. He was appointed a judge of the Court of Common Pleas in 1867, and was knighted in 1871.\\n\\nReynolds was a prolific author, writing on a wide range of topics. He wrote several books on legal topics, including The Law of Libel and Slander (1863), The Law of Copyright (1865), and The Law of Patents for Inventions (1868). He also wrote on a variety of other topics, including history, biography, and literature. He was a frequent contributor to the Saturday Review, and wrote several books on Shakespeare, including The Mystery of William Shakespeare (1848) and The Authorship of Shakespeare (1875). He also wrote a biography of the poet John Keats (1848).\", 'wiki_bio_text': 'Sir John Russell Reynolds, 1st Baronet (22 May 1828 – 29 May 1896) was a British neurologist and physician. Reynolds was born in Romsey, Hampshire, as the son of John Reynolds, an independent minister, and the grandson of Dr. Henry Revell Reynolds. He received general education from his father, and was educated in his profession at University College, London, where he obtained three gold medals in the medical school. In 1851, he graduated M.B. in the University of London, and obtained a scholarship and gold medal in medicine. In 1852, he took the degree of M.D., and began practice in Leeds. He soon after moved to London, and took a house, 38 Grosvenor Street, in which Dr. Marshall Hall had lived. Hall announced to his patients in a printed circular that Reynolds had succeeded him in practice. Such procedure was contrary to a recognised understanding among physicians, and Hall incurred the censure of the College of Physicians. Reynolds, who was ignorant of Hall\\'s intention, was in no way responsible for the circular, and was in no way involved in the censure. He was duly elected a Fellow of the College in 1859. In the same year, he was appointed Assistant Physician to University College Hospital, to which he continued attached throughout life. He had before been, in 1855, Assistant Physician to the Hospital for Sick Children, and in 1857 Assistant Physician to the Westminster Hospital. In 1865, he became Professor of the Principles and Practice of Medicine at University College, and in 1878 he was appointed Physician-in-Ordinary to the Queen\\'s Household. He gained a considerable practice as a physician, and was often consulted in difficult cases of nervous disease. In 1869, he was elected a Fellow of the Royal Society, and in 1883 Vice-President of the Royal Medical and Chirurgical Society. He delivered the Lumleian Lecture at the College of Physicians in 1867, the Harveian Oration in 1884, and was elected President in 1893, on the death of Sir Andrew Clark. He was re-elected in 1894 and 1895, and on 1 January in the latter year was created a Baronet. In the winter of 1895–96, he became too ill to offer himself for re-election as President of the College of Physicians. He died at his house in Grosvenor Street, London, after several weeks of illness of a pulmonary congestion, on 29 May 1896. He was married, first, to Miss Ainslie, and, secondly, to Frances, widow of C. J. C. Crespigny, but left no children. The \"Reynolds Baronetcy\", of Grosvenor Street, was created in the Baronetage of the United Kingdom on 28 February 1895 for John Russell Reynolds. The title became extinct on his death. Reynolds devoted himself from an early period to the study of nervous diseases, and in 1854 published an \"Essay on Vertigo\"; in 1855 \"Diagnosis of Diseases of the Brain, Spinal Cord, and Nerves\", as well as \"Tables for the Diagnosis of Diseases of the Brain\"; in 1861 a treatise on epilepsy; in 1871 \"Lectures on the Clinical Uses of Electricity\"; in 1872 \"The Scientific Value of the Legal Tests of Insanity\"; besides many papers in medical periodicals and the transactions of medical societies, and several addresses to medical associations. His writings on nervous diseases were useful contributions to a department of medicine in which much work remained undone, but in the flood of modern observations they have been submerged. He will chiefly be remembered among physicians as the editor of the \"System of Medicine\", in five volumes, published from 1866 to 1879, a collection of essays on diseases, written by the most competent men who could be induced to write – compositions of varying merit, but generally of high value. He himself wrote the parts on erysipelas, on inflammation of the lymphatics, and on several forms of nervous disease. He published in 1893 a \"Life of Dr. Walter Hayle Walshe\". Reynolds was a tall man, with dark hair, with a dignified delivery and some oratorical power. Reynolds died in London.', 'gpt3_sentences': ['John Russell Reynolds (1820–1876) was an English lawyer, judge, and author.', 'He was born in London, the son of a barrister, and was educated at Eton College and Trinity College, Cambridge.', \"He was called to the bar in 1845, and became a Queen's Counsel in 1859.\", 'He was appointed a judge of the Court of Common Pleas in 1867, and was knighted in 1871.', 'Reynolds was a prolific author, writing on a wide range of topics.', 'He wrote several books on legal topics, including The Law of Libel and Slander (1863), The Law of Copyright (1865), and The Law of Patents for Inventions (1868).', 'He also wrote on a variety of other topics, including history, biography, and literature.', 'He was a frequent contributor to the Saturday Review, and wrote several books on Shakespeare, including The Mystery of William Shakespeare (1848) and The Authorship of Shakespeare (1875).', 'He also wrote a biography of the poet John Keats (1848).'], 'annotation': ['major_inaccurate', 'major_inaccurate', 'major_inaccurate', 'major_inaccurate', 'major_inaccurate', 'major_inaccurate', 'major_inaccurate', 'major_inaccurate', 'major_inaccurate'], 'wiki_bio_test_idx': 62464, 'gpt3_text_samples': ['John Russell Reynolds (1 November 1829  – 11 March 1907) was an English lexicographer, editor and author. Born in London, he was the eldest son of the first Lord Ogmore, and was educated at Trinity College, Oxford, where he graduated B.A. in 1852 and became a Fellow in 1854. He was president of Magdalen Hall from 1864 to 1884, and from 1864 to 1883 was assistant-editor to the Oxford English Dictionary under James Murray. \\n\\nHe was a permanent contributor to The Saturday Review, and wrote several books about the House of Commons. He also compiled dictionaries of quotations and biographies and edited collections of newspaper articles. He had a particular interest in the works of Christian mystics, writing studies of the lives and works of Saints Augustine and Thomas à Kempis. For his edition of Thomas à Kempis\\' \"The Imitation of Christ\", first published in 1875, he wrote a biographical introduction.', \"John Russell Reynolds (26 April 1819 – 17 June 1879) was an English poet, journalist and government servant. He was born in London and lived most of his life in the capital, although he spent a few years in the U.S.A.\\n\\nReynolds began his literary career writing reviews and verses for the Magazine of the British and Foreign Bible Society. In 1840, he was appointed as a commissioner in the Department of Woods and Forests and was later promoted to Secretary of the Office of Works in 1867.\\n\\nHe wrote translations of Virgil's Eclogues and Georgics, and subsequently wrote a number of poems for various periodicals. His most famous poem is probably The Forsaken Merman, in which he expresses sympathy for the fate of a mermaid who is forced to leave her Sea-King home.\\n\\nReynolds also published a long narrative poem, The Young Shepherds of Arcady, in 1851 and composed other poem collections such as The Holy Year in Poetry, The Poetical Remains of John Russel Reynolds and The Choicest Songs of John Russel\", \"John Russell Reynolds (1820-1876) was an English lawyer, author, political theorist, and civil servant. He is widely known for his contributions to English jurisprudence, was the author of many books and pamphlets, especially in constitutional law, and is often credited as the father of codified English common law. Reynolds was born in London on 21 June 1820, the son of John Reynolds, a clerk in the Exchequer, and his wife Anna Pollock. He was educated at Dean Close School, and then at St. Edmund Hall, Oxford, from which he graduated BA in 1842; he was called to the bar at Lincoln's Inn in 1849. He was a member of the Royal Commission for the Revision of the Criminal Law, and with the help of his father drafted the Criminal Law Consolidation Acts of 1861 and 1864. He was legal member of the Indian Council from 1870 to 1876 and published his principle works, The Institutes of the Laws of England in 1869, and followed it up with The Laws of England in 1871, which is still consulted today. His influence on British law\", \"John Russell Reynolds (1817 – 1879) was a British lawyer, translator and classical scholar. He was a contemporary of, and may have been influenced by, the Philhellenist Richard Payne Knight.\\n\\nReynolds was born in London, where he was educated at Westminster School. He then studied the classics at Queen's College, Oxford, graduating in 1839. He was called to the bar of the Inner Temple in 1843.\\n\\nReynolds became a popular translator from ancient Greek and Latin, often using creative license to give the English translation poetic flourish. Among the works he translated are Theocritus in 1845 and the Treatise on Oratory by the Roman rhetorician Quintilian in 1856.\\n\\nReynolds was also a lawyer and Fellow of the Royal Society and published many other works. He was appointed Reader in Poetry at Oxford in 1861 and predeceased his father, Sir John Richardson Reynolds. He was buried in the North Cemetery of Oxford.\", \"John Russell Reynolds (3 August 1827 – 6 March 1876) was an English barrister, judge, legal writer and the first editor of The Law Times. He was the fifth child and eldest son of Kemble Reynolds, a prominent member of the London Stock Exchange.\\n\\nReynolds was educated at Harrow School before being called to the Bar at Lincoln's Inn in 1849. He went on to become a conveyancer, and selected as the first editor of The Law Times. He became a Queen's Counsel in 1866 and was appointed to the Common Pleas Division of the High Court of Justice in 1868. \\n\\nReynolds was highly respected as a jurist and he is regarded as one of the most important legal writers of the 19th century. He wrote several books and articles on a variety of topics, including real property, private international law, and equity. He was also a prolific contributor to legal journals, and edited several editions of Hargrave's Law of Nations. He is credited with writing the authoritative work on trusts and estates, the Treatise on the Law of Trusts, which has remained\", 'John Russell Reynolds (1816–1876) was an English physician, author and literary critic. Born on the Isle of Wight, Russell Reynolds studied medicine in London and at University of Edinburgh. He became a Fellow of the Royal College of Physicians of London in 1843 before settling in Bloomsbury with his practice. He wrote prolifically and was considered a scholar of Shakespeare and other literary works. He wrote for several journals, edited and published a five-volume edition of the works of William Shakespeare, published The Shakespeare Library based on his collection and delivered lectures on Shakespeare and other authors. In his spare time, he worked on a revision and remedial editing of the Augustan poets and produced a number of scholarly works. He also contributed to medical journals, but was unsuccessful in his application to become a physician to the Household of Queen Victoria.', 'John Russell Reynolds (1820–1876) was an English writer and physician known for his significant contributions to the development of Victorian medicine and to literature. He published several works, including passionate poems and madrigals, a popular novel, and two books on medicine.\\n\\nReynolds was born in London in 1820 to Dr. John Reynolds, a music teacher and a medical student, and his wife, Anne Ravell. He received his first medical education at the Royal College of Physicians between 1838 and 1841 and married Henrietta Ann Seale three years later. Reynolds served as fellow at the Royal College of Surgeons between 1846 and 1847, where he taught anatomy and chemistry.\\n\\nIn 1849, he became a resident physician at the newly established West London Hospital. Five years later, he was appointed as consulting physician and lecturer in midwifery and diseases of women. In 1856, Reynolds was elected a Fellow of the Royal College of Physicians and was one of the members of the expert committee on smallpox and vaccination. He was also a member of the committee of the Medical Society of London.', \"John Russell Reynolds (1827 – 1891) was an English physician and neurologist. He was born in London, the eldest son of a lawyer. He studied medicine at St Bartholomew’s Hospital, London, and graduated in 1849 with a distinction in medicine.\\n\\nReynolds was a member of the Royal College of Physicians and also of the Royal College of Surgeons of England. He was a prominent member of the medical profession and gained recognition for his work in medicine, neurology and psychiatry. He wrote numerous books on medicine and neurology, the most notable being his 'Diseases of the Nervous System' published in 1867, which was one of the first textbooks in modern neurology.\\n\\nReynolds was appointed Physician Extraordinary to Queen Victoria in 1876, and was knighted two years later in 1878. He became an honorary fellow of the Royal College of Physicians in 1889. He was a very brilliant medical specialist who was respected by many of his peers. He died in London in 1891.\", \"John Russell Reynolds (17 April 1819 – 18 May 1879) was an English judge and law writer. He was the eldest son of Thomas Reynolds and his wife Judith, née Burton. He received his early education at a private school, and at the age of fifteen he was articled to a solicitor in London.\\n\\nReynolds was called to the bar at the Middle Temple in 1844. In the following year he published a book of legal maxims, which was favourably noticed, and brought him into general repute among the profession. He served on the Oxford circuit, where he became a leader, and was made a Queen's Counsel in 1860.\\n\\nIn 1870 Reynolds was appointed to the Common Pleas Bench; and he was made a High Court judge in 1881. The same year he published his principal work, The Common Law and Equity. He also wrote a number of books on law and legal cases, as well as single essay and various biographies.\\n\\nDuring his time as a judge Reynolds was notable for his respect for existing precedents. He propounded that precedent and tradition were the twin sources of\", \"John Russell Reynolds (18 January 1832–6 February 1893) was an English lawyer and Judge best remembered for two of his judgments. The first, in 1878, affirmed meaning of the Indian Evidence Act, now embodies in section 32 of the Indian Evidence Act, 1872. The second, in 1887, established that a temple construct by the Shewanid dynasty of the Marathas counts as an antiquity, and qualifies under the Ancient Monuments Preservation Act, 1882.\\n\\nReynolds was born 18 January 1832 at Bushey, Hertfordshire, the fifth child of James and his wife, Ann Lewis. He was educated at Charterhouse and studied law at Lincoln's Inn. He was called to the Bar in 1859, becoming a QC in 1877.\\n\\nIn 1880, Reynolds was appointed Judge of the High Court of Judicature at Bombay, a post held until 1885, when he returned to England. In 1891, he was appointed a Baron of the Exchequer, a position held when he died of a third stroke on 6 February 1893. A portrait of John Russell Reynolds, painted\", \"John Russell Reynolds (15 October 1828 – 16 February 1896) was an English lawyer and bibliographer. He is best known for his work, The Life and Correspondence of Thomas Reid (1870), the first biography of the Scottish philosopher Thomas Reid. He also wrote papers on legal topics and published The Law Magazine and Law Review, an influential legal publication.\\n\\nReynolds was born in London and educated at Eton College and at Trinity College, Cambridge. After graduating, he was called to the bar in 1849, worked as a journalist, and was an editorial assistant to Charles Knight in London. In 1862, he became a commissioner in bankruptcy, and in 1871 he was made assistant judge of the County Court. From 1876 to 1893 he was a member of the syndicate of judges of the Common Pleas, Queen's Bench and Chancery divisions. \\n\\nReynolds was a close friend of Charles Darwin, who dedicated his book The Descent of Man (1871) to him. He was an active member of the Metaphysical Society, a diverse group of intellectuals that gathered to discuss science,\", 'John Russell Reynolds (7 August 1817 – 4 November 1876) was an English surgeon, author and naturalist, who was one of the leading medical practitioners of the Victorian era in England. He was born in London, and was the third son of Thomas Reynolds, a physician. He was educated first at King\\'s College School, then attended University College Hospital, where he trained to become a surgeon. He graduated with honours in 1844, He was elected President of the Laryngological Society in 1869 and a Fellow of the Royal College of Physicians of London in 1871. He was a Fellow of the Royal College of Surgeons in 1841, Fellow of the Linnean Society in 1846 and was also a member of numerous other scientific societies and associations. He rose to become one of the most respected and renowned physicians of his age, praised for his exceptional skill and care, as well as his expansive knowledge on a variety of medical subjects. He published over fifty works, including \"A Treatise on the Medical Effects of Air, Climate and Locality\" (1844), \"A Treatise on Fevers and Inf', \"John Russell Reynolds (18 January 1817 – 22 April 1876) was an English surgeon and antiquarian, who served on the Royal Commission on the British Museum and was one of the first curators of the then newly founded Natural History Museum in South Kensington.\\n\\nReynolds was born in London, to James and Anne (née Locke) Reynolds. He was educated at private schools, was apprenticed to a surgeon at St Thomas' Hospital in 1834 and obtained the gold medal of the college. He became FRCS in 1836, and FRS in the same year.\\n\\nReynolds served on the Royal Commission on the British Museum from 1861 to 1865, before being appointed the first curator of the then newly founded Natural History Museum in South Kensington. During his tenure, he was responsible for the cataloguing and improving of the collections at the museum, which had been left in a state of disorder by its predecessor. He retired in December 1871 owing to ill health, and died in 1876.\", \"John Russell Reynolds (1826–1876) was an English mathematician, who was born 25 April 1826. He is especially remembered for his texts on algebra and calculus; but he also wrote extensively on geometry and the use of infinitesimals.\\n\\nHe was educated at Beccles Grammar School and Trinity College, Cambridge, where he was senior wrangler and first Smith's prizeman in 1849. In 1849, Reynolds was appointed second wrangler and first Smith prizeman at Trinity College, Cambridge. As a student he was nicknamed ‘wicked’ due to his mischievous behaviour, but this changed when he became a Fellow and lecturer at Trinity College in 1850.\\n\\nReynolds wrote many books, and in 1868 he was elected to the Royal Society. He was an influential figure in Cambridge and was respected by his friends and colleagues. He was widely respected for his personal integrity and was known to be 'very caring in his teaching'. \\n\\nHe died in 1876.\", 'John Russell Reynolds (18 October 1799 - 22 April 1879) was an English lawyer and literary editor. He became a Fellow of the Royal Society in 1863, one of the first lawyers to be so honoured.\\n\\nReynolds was born in London, the second son of John Reynolds, a silk-mercer in Ludgate Hill. His ancestors for several generations had been landowners in Essex and Somerset. After attending Westminster School, in 1817 he entered the Middle Temple, and in 1820 was called to the bar, but did not practice.\\n\\nFrom 1833 he was an editor of the Quarterly Review, with Sir Robert Inglis, till in April 1860 he was compelled by infirmities, attributable to advanced age, to resign the appointment. Later he became honorary editor of the works of Sir Walter Scott, and he superintended other important publications. \\n\\nReynolds was a Gurneyite Quaker, and in 1847 was appointed one of the vice-presidents of the British and Foreign Bible Society, which continued to be his principal interest until his death. He was the author of several collections', \"John Russell Reynolds (12 May 1794 – 8 January 1869) was an English author and philologist. He was born in Sandford near Crediton, Devon, the fifth son of John Reynolds (1759–1831), a banker and lawyer, and his wife Anne, née Russell. He was educated at Eton College, and in 1814 obtained a scholarship to Balliol College, Oxford, where he took his Bachelor of Arts degree in 1817, and proceeded to a Master of Arts (MA) degree in 1820.\\n\\nReynolds was the author of several works, mostly on philological and antiquarian topics, including one of the earliest popular books on British birds, The Fire-side Naturalist (1830). He also wrote a two-volume biography of William Shakespeare; with annotated choices from Shakespeare's works, arranged in chronological order appearing in 13 monthly parts in 1840–1; and a two-volume biography of the poet and engraver Thomas Bewick, with a portrait and sixteen engravings, in 1856. In 1810 he published the first paper by an English writer on\", 'John Russell Reynolds (11 April 1792 – 11 December 1872) was an English lawyer and antiquary. He was a prominent figure in Victorian legal circles, and his scholarship helped to establish the practice of English legal history in the 19th century.\\n\\nReynolds was born into a legal family in London, and from a very young age he began involvement with the legal profession. He received an honorary degree from Balliol College in 1815, after which he studied the law under John Singleton Copley (later Lord Lyndhurst). He was called to the bar in 1819, and initially practised as a special pleader and conveyancer.\\n\\nHe enjoyed considerable success in his legal career, eventually becoming one of the leading counsel of the day. In 1836, he was made a QC, and was appointed solicitor-general for Ireland in 1840. His distinguished career in legal circles also earned him the accolade of being knighted in 1845.\\n\\nAside from his legal practice, Reynolds was also known for his work as an antiquarian. He was elected a Fellow of the Society of Antiquaries of London in 18', 'John Russell Reynolds (1792–1852) was a British physician, classicist, and author. He was educated at Trinity College, Dublin, where he studied classics in addition to medicine. Reynolds achieved success as a physician and was appointed one of the first four physicians at the Royal Infirmary in Edinburgh in 1830.\\n\\nIn addition to his medical career, Reynolds wrote extensively in the fields of classical studies and lexicography. He is known for his translations of classical literature, such as Aeschylus and Euripides, and for his Latin-English Lexicon, which was published in four volumes between 1835 and 1840. He was a popular lecturer and was influential in bringing together the classicists and philologists who later founded the Cambridge Philological Society.', \"John Russell Reynolds (3 December 1876 – 21 April 1950) was an English medical doctor and psychoanalyst who is best known as an analyst of Sigmund Freud. Reynolds, who was initially trained in medicine, went on to a substantial career in psychotherapy and became a major exponent of psychoanalysis in the United Kingdom.\\n\\nReynolds was born in London, the son of a doctor, Thomas Waring Reynolds. He attended the Westminster School, followed by Magdalen College, Oxford, where he completed his medical training in 1901. He initially worked at St Bartholomew's Hospital, London, then became physician to the Portman Mental Hospital in London, and later the Royal Northern Hospital, also in London. In 1915, he served as a major with the Royal Army Medical Corps.\\n\\nIn 1922 Reynolds was one of the early members of the British Psychoanalytic Society, which had been founded the previous year, and was one of the few ‘original members’ who had had personal contact with Freud. He served as the president of the British Psychoanalytical Society in 1938 and 1939.\", \"John Russell Reynolds (1777–1850) was an eminent English physician and member of the Royal College of Physicians. He was one of the most celebrated and influential of his time, and his important contributions to medicine and natural sciences have secured his place in the history of British science.\\n\\nReynolds was born in York, England, and attended Magdalen College, Oxford, graduating with a B.A. in 1800. His medical studies began at St Bartholomew's Hospital, London, and in 1804 he was appointed house physician, starting a long and distinguished medical career. Reynolds gradually obtained wider recognition and was elected to the Royal College of Physicians in 1810. After this point, he rose through its ranks until he became Secretary in 1823. In 1835, he was made a Councillor, 1845 an Elector, and in 1848, he returned to his academic roots and assumed the role of Vice-President.\\n\\nReynolds made numerous contributions to medicine, including the first description in English of the fourth subgroup of the genus Brucella, now commonly known as Brucella melit\"]}\n"
     ]
    }
   ],
   "source": [
    "hal_dataset = load_dataset(\"potsawee/wiki_bio_gpt3_hallucination\")\n",
    "hal_eval_dataset = hal_dataset['evaluation']\n",
    "\n",
    "print(hal_eval_dataset)\n",
    "print(hal_eval_dataset[0])\n"
   ]
  },
  {
   "cell_type": "code",
   "execution_count": null,
   "metadata": {},
   "outputs": [
    {
     "name": "stderr",
     "output_type": "stream",
     "text": [
      "[nltk_data] Downloading package punkt to /home/mfuai/nltk_data...\n",
      "[nltk_data]   Package punkt is already up-to-date!\n",
      "[nltk_data] Downloading package punkt_tab to /home/mfuai/nltk_data...\n",
      "[nltk_data]   Package punkt_tab is already up-to-date!\n"
     ]
    },
    {
     "data": {
      "text/plain": [
       "True"
      ]
     },
     "execution_count": 71,
     "metadata": {},
     "output_type": "execute_result"
    }
   ],
   "source": [
    "nltk.download('punkt')\n",
    "nltk.download('punkt_tab')"
   ]
  },
  {
   "cell_type": "code",
   "execution_count": 9,
   "metadata": {},
   "outputs": [
    {
     "name": "stdout",
     "output_type": "stream",
     "text": [
      "{'gpt3_sentence': 'John Russell Reynolds (1820–1876) was an English lawyer, judge, and author.', 'wiki_bio_sentences': 'Sir John Russell Reynolds, 1st Baronet (22 May 1828 – 29 May 1896) was a British neurologist and physician. Reynolds was born in Romsey, Hampshire, as the son of John Reynolds, an independent minister, and the grandson of Dr. Henry Revell Reynolds. He received general education from his father, and was educated in his profession at University College, London, where he obtained three gold medals in the medical school. In 1851, he graduated M.B.', 'annotation': 'major_inaccurate', 'label': 1}\n"
     ]
    }
   ],
   "source": [
    "# 标签转换：Non-Factual (1) 和 Factual (0)\n",
    "def map_labels(label):\n",
    "    if label in ['major_inaccurate', 'minor_inaccurate']:\n",
    "        return 1  # Non-Factual\n",
    "    elif label == 'accurate':\n",
    "        return 0  # Factual\n",
    "    return -1  # 处理未知标签的情况\n",
    "\n",
    "# 获取所需字段\n",
    "wiki_bio_texts = hal_eval_dataset['wiki_bio_text']\n",
    "gpt3_sentences = hal_eval_dataset['gpt3_sentences']\n",
    "annotations = hal_eval_dataset['annotation']\n",
    "\n",
    "# 新建一个列表来存储处理后的数据\n",
    "processed_data = []\n",
    "\n",
    "for wiki_bio_text, gpt3_sentence_list, annotation_list in zip(wiki_bio_texts, gpt3_sentences, annotations):\n",
    "    # 清理 wiki_bio_text，去除多余的空格或换行符\n",
    "    wiki_bio_text = wiki_bio_text.replace('\\n', ' ').strip()\n",
    "    \n",
    "    # 使用 nltk 分割 wiki_bio_text 为多个句子\n",
    "    try:\n",
    "        wiki_bio_sentences = nltk.sent_tokenize(wiki_bio_text)\n",
    "    except Exception as e:\n",
    "        print(f\"Error processing text: {wiki_bio_text[:50]}... Error: {e}\")\n",
    "        continue  # 如果分割出错，跳过此行数据\n",
    "\n",
    "    # 如果 wiki_bio_sentences 数量大于 gpt3_sentence_list，进行平均分配\n",
    "    n_sentences = len(gpt3_sentence_list)\n",
    "    if len(wiki_bio_sentences) > n_sentences:\n",
    "        # 按块分配每个 gpt3_sentence 到对应的 wiki_bio_sentences\n",
    "        sentences_per_gpt3 = len(wiki_bio_sentences) // n_sentences\n",
    "        remainder = len(wiki_bio_sentences) % n_sentences\n",
    "        \n",
    "        for i in range(n_sentences):\n",
    "            start_idx = i * sentences_per_gpt3 + min(i, remainder)\n",
    "            end_idx = (i + 1) * sentences_per_gpt3 + min(i + 1, remainder)\n",
    "            combined_wiki_sentences = ' '.join(wiki_bio_sentences[start_idx:end_idx]).strip()\n",
    "            processed_data.append({\n",
    "                'gpt3_sentence': gpt3_sentence_list[i].strip(),\n",
    "                'wiki_bio_sentences': combined_wiki_sentences,\n",
    "                'annotation': annotation_list[i].strip()\n",
    "            })\n",
    "    else:\n",
    "        # 如果句子数相等，则直接一一对应\n",
    "        for i, wiki_sentence in enumerate(wiki_bio_sentences):\n",
    "            processed_data.append({\n",
    "                'gpt3_sentence': gpt3_sentence_list[i].strip(),\n",
    "                'wiki_bio_sentences': wiki_sentence.strip(),\n",
    "                'annotation': annotation_list[i].strip()\n",
    "            })\n",
    "\n",
    "\n",
    "df_processed = pd.DataFrame(processed_data)\n",
    "df_processed['label'] = df_processed['annotation'].apply(map_labels)\n",
    "\n",
    "# 将 DataFrame 转换为 Hugging Face Dataset\n",
    "processed_dataset = Dataset.from_pandas(df_processed)\n",
    "print(processed_dataset[0])\n",
    "\n",
    "premises = processed_dataset['wiki_bio_sentences']\n",
    "hypotheses = processed_dataset['gpt3_sentence']\n",
    "labels = processed_dataset['label']"
   ]
  },
  {
   "cell_type": "code",
   "execution_count": 10,
   "metadata": {},
   "outputs": [
    {
     "name": "stderr",
     "output_type": "stream",
     "text": [
      "Evaluating: 1795it [00:06, 264.73it/s]"
     ]
    },
    {
     "name": "stdout",
     "output_type": "stream",
     "text": [
      "Accuracy: 0.7343\n",
      "Precision: 0.7514\n",
      "Recall: 0.9512\n",
      "F1 Score: 0.8396\n"
     ]
    },
    {
     "name": "stderr",
     "output_type": "stream",
     "text": [
      "\n"
     ]
    }
   ],
   "source": [
    "from tqdm import tqdm\n",
    "\n",
    "tokenizer_ft = RobertaTokenizer.from_pretrained(\"./roberta_finetuned_model\")\n",
    "model_ft = RobertaForSequenceClassification.from_pretrained(\"./roberta_finetuned_model\")\n",
    "model_ft.to('cuda')\n",
    "\n",
    "model_ft.eval()\n",
    "\n",
    "predictions = []\n",
    "\n",
    "for premise, hypothesis in tqdm(zip(premises, hypotheses), desc=\"Evaluating\"):\n",
    "   \n",
    "    encoding = tokenizer_ft(\n",
    "        premise,\n",
    "        hypothesis,\n",
    "        padding=True,\n",
    "        truncation=True,\n",
    "        return_tensors='pt',\n",
    "        max_length=512\n",
    "        ).to('cuda')\n",
    "    \n",
    "    with torch.no_grad():\n",
    "        outputs = model_ft(**encoding)\n",
    "\n",
    "    logits = outputs.logits\n",
    "    pred = torch.argmax(logits, dim=-1).item()\n",
    "    if pred != 0:\n",
    "        pred = 1\n",
    "    predictions.append(pred)\n",
    "\n",
    "accuracy = accuracy_score(labels, predictions)\n",
    "precision, recall, f1, _ = precision_recall_fscore_support(labels, predictions, average='binary')\n",
    "\n",
    "print(f\"Accuracy: {accuracy:.4f}\")\n",
    "print(f\"Precision: {precision:.4f}\")\n",
    "print(f\"Recall: {recall:.4f}\")\n",
    "print(f\"F1 Score: {f1:.4f}\")"
   ]
  },
  {
   "cell_type": "code",
   "execution_count": 11,
   "metadata": {},
   "outputs": [
    {
     "name": "stderr",
     "output_type": "stream",
     "text": [
      "Some weights of RobertaForSequenceClassification were not initialized from the model checkpoint at roberta-base and are newly initialized: ['classifier.dense.bias', 'classifier.dense.weight', 'classifier.out_proj.bias', 'classifier.out_proj.weight']\n",
      "You should probably TRAIN this model on a down-stream task to be able to use it for predictions and inference.\n",
      "Evaluating: 1795it [00:06, 268.29it/s]"
     ]
    },
    {
     "name": "stdout",
     "output_type": "stream",
     "text": [
      "Accuracy: 0.2691\n",
      "Precision: 0.0000\n",
      "Recall: 0.0000\n",
      "F1 Score: 0.0000\n"
     ]
    },
    {
     "name": "stderr",
     "output_type": "stream",
     "text": [
      "\n",
      "/home/mfuai/.conda/envs/msbd5018/lib/python3.9/site-packages/sklearn/metrics/_classification.py:1531: UndefinedMetricWarning: Precision is ill-defined and being set to 0.0 due to no predicted samples. Use `zero_division` parameter to control this behavior.\n",
      "  _warn_prf(average, modifier, f\"{metric.capitalize()} is\", len(result))\n"
     ]
    }
   ],
   "source": [
    "model = RobertaForSequenceClassification.from_pretrained('roberta-base', num_labels=3)\n",
    "model.to('cuda')\n",
    "tokenizer = RobertaTokenizer.from_pretrained('roberta-base')\n",
    "model.eval()\n",
    "\n",
    "predictions_base = []\n",
    "\n",
    "for premise, hypothesis in tqdm(zip(premises, hypotheses), desc=\"Evaluating\"):\n",
    "\n",
    "    encoding = tokenizer(\n",
    "        premise,\n",
    "        hypothesis,\n",
    "        padding=True,\n",
    "        truncation=True,\n",
    "        return_tensors='pt',\n",
    "        max_length=512\n",
    "        ).to('cuda')\n",
    "    \n",
    "    with torch.no_grad():\n",
    "        outputs = model(**encoding)\n",
    "    \n",
    "    logits = outputs.logits\n",
    "    pred = torch.argmax(logits, dim=-1).item()\n",
    "    if pred != 0:\n",
    "        pred = 1\n",
    "    predictions_base.append(pred)\n",
    "\n",
    "# 计算评估指标\n",
    "accuracy = accuracy_score(labels, predictions_base)\n",
    "precision, recall, f1, _ = precision_recall_fscore_support(labels, predictions_base, average='binary')\n",
    "\n",
    "print(f\"Accuracy: {accuracy:.4f}\")\n",
    "print(f\"Precision: {precision:.4f}\")\n",
    "print(f\"Recall: {recall:.4f}\")\n",
    "print(f\"F1 Score: {f1:.4f}\")"
   ]
  },
  {
   "cell_type": "code",
   "execution_count": 12,
   "metadata": {},
   "outputs": [
    {
     "name": "stderr",
     "output_type": "stream",
     "text": [
      "Some weights of the model checkpoint at FacebookAI/roberta-large-mnli were not used when initializing RobertaForSequenceClassification: ['roberta.pooler.dense.bias', 'roberta.pooler.dense.weight']\n",
      "- This IS expected if you are initializing RobertaForSequenceClassification from the checkpoint of a model trained on another task or with another architecture (e.g. initializing a BertForSequenceClassification model from a BertForPreTraining model).\n",
      "- This IS NOT expected if you are initializing RobertaForSequenceClassification from the checkpoint of a model that you expect to be exactly identical (initializing a BertForSequenceClassification model from a BertForSequenceClassification model).\n",
      "Evaluating: 1795it [00:13, 133.30it/s]"
     ]
    },
    {
     "name": "stdout",
     "output_type": "stream",
     "text": [
      "Accuracy: 0.5543\n",
      "Precision: 0.6852\n",
      "Recall: 0.7218\n",
      "F1 Score: 0.7030\n"
     ]
    },
    {
     "name": "stderr",
     "output_type": "stream",
     "text": [
      "\n"
     ]
    }
   ],
   "source": [
    "# Load model directly\n",
    "from transformers import AutoTokenizer, AutoModelForSequenceClassification\n",
    "\n",
    "tokenizer = AutoTokenizer.from_pretrained(\"FacebookAI/roberta-large-mnli\")\n",
    "model = AutoModelForSequenceClassification.from_pretrained(\"FacebookAI/roberta-large-mnli\")\n",
    "\n",
    "model.to('cuda')\n",
    "model.eval()\n",
    "\n",
    "predictions_base = []\n",
    "\n",
    "for premise, hypothesis in tqdm(zip(premises, hypotheses), desc=\"Evaluating\"):\n",
    "\n",
    "    encoding = tokenizer(\n",
    "        premise,\n",
    "        hypothesis,\n",
    "        padding=True,\n",
    "        truncation=True,\n",
    "        return_tensors='pt',\n",
    "        max_length=512\n",
    "        ).to('cuda')\n",
    "    \n",
    "    with torch.no_grad():\n",
    "        outputs = model(**encoding)\n",
    "    \n",
    "    logits = outputs.logits\n",
    "    pred = torch.argmax(logits, dim=-1).item()\n",
    "    if pred != 0:\n",
    "        pred = 1\n",
    "    predictions_base.append(pred)\n",
    "\n",
    "# 计算评估指标\n",
    "accuracy = accuracy_score(labels, predictions_base)\n",
    "precision, recall, f1, _ = precision_recall_fscore_support(labels, predictions_base, average='binary')\n",
    "\n",
    "print(f\"Accuracy: {accuracy:.4f}\")\n",
    "print(f\"Precision: {precision:.4f}\")\n",
    "print(f\"Recall: {recall:.4f}\")\n",
    "print(f\"F1 Score: {f1:.4f}\")"
   ]
  }
 ],
 "metadata": {
  "kernelspec": {
   "display_name": "msbd5018",
   "language": "python",
   "name": "python3"
  },
  "language_info": {
   "codemirror_mode": {
    "name": "ipython",
    "version": 3
   },
   "file_extension": ".py",
   "mimetype": "text/x-python",
   "name": "python",
   "nbconvert_exporter": "python",
   "pygments_lexer": "ipython3",
   "version": "3.9.20"
  }
 },
 "nbformat": 4,
 "nbformat_minor": 2
}
